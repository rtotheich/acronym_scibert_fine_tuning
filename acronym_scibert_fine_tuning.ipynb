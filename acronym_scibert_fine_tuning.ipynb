{
 "cells": [
  {
   "cell_type": "code",
   "execution_count": null,
   "metadata": {},
   "outputs": [],
   "source": [
    "from transformers import TFAutoModelForMaskedLM\n",
    "\n",
    "model_checkpoint = \"allenai/scibert_scivocab_uncased\"\n",
    "model = TFAutoModelForMaskedLM.from_pretrained(model_checkpoint, from_pt=True)\n",
    "\n",
    "model.summary()"
   ]
  },
  {
   "cell_type": "code",
   "execution_count": null,
   "metadata": {},
   "outputs": [],
   "source": [
    "from transformers import AutoTokenizer\n",
    "\n",
    "tokenizer = AutoTokenizer.from_pretrained(model_checkpoint)"
   ]
  },
  {
   "cell_type": "code",
   "execution_count": null,
   "metadata": {},
   "outputs": [],
   "source": [
    "from datasets import load_dataset\n",
    "dataset = load_dataset(\"csv\", data_files={\"train\":\"acronym_train.csv\", \"test\":\"acronym_test.csv\"})\n",
    "\n",
    "dataset"
   ]
  },
  {
   "cell_type": "code",
   "execution_count": null,
   "metadata": {
    "tags": []
   },
   "outputs": [],
   "source": [
    "dataset[\"train\"][20]"
   ]
  },
  {
   "cell_type": "code",
   "execution_count": null,
   "metadata": {},
   "outputs": [],
   "source": [
    "sample = dataset[\"train\"].shuffle(seed=42).select(range(3))\n",
    "\n",
    "for row in sample:\n",
    "    print(f\"'>>> Input IDs: {row['masked']}\")\n",
    "    print(f\"'>>> Outputs: {row['outputs']}\")"
   ]
  },
  {
   "cell_type": "code",
   "execution_count": null,
   "metadata": {},
   "outputs": [],
   "source": [
    "def tokenize_function(examples):\n",
    "    result = tokenizer(examples[\"masked\"], padding='max_length', max_length=30)\n",
    "    if tokenizer.is_fast:\n",
    "        result[\"word_ids\"] = [result.word_ids(i) for i in range(len(result[\"input_ids\"]))]\n",
    "    \n",
    "    return result\n",
    "\n",
    "def tokenize_labels(examples):\n",
    "    result = tokenizer(examples[\"outputs\"], padding='max_length', max_length=30)\n",
    "    if tokenizer.is_fast:\n",
    "        result[\"word_ids\"] = [result.word_ids(i) for i in range(len(result[\"input_ids\"]))]\n",
    "        result[\"labels\"] = result[\"input_ids\"].copy()\n",
    "    \n",
    "    return result"
   ]
  },
  {
   "cell_type": "code",
   "execution_count": null,
   "metadata": {},
   "outputs": [],
   "source": [
    "tokenized_dataset = dataset.map(\n",
    "    tokenize_labels, batched=True, remove_columns=[\"outputs\"]\n",
    ")\n",
    "\n",
    "tokenized_dataset = tokenized_dataset.map(\n",
    "    tokenize_function, batched=True, remove_columns=[\"word_ids\", \"masked\", \"input_ids\", \"token_type_ids\", \"attention_mask\"]\n",
    ")\n",
    "\n",
    "tokenized_dataset"
   ]
  },
  {
   "cell_type": "code",
   "execution_count": null,
   "metadata": {},
   "outputs": [],
   "source": [
    "from transformers import DataCollatorWithPadding\n",
    "\n",
    "tf_train = tokenized_dataset[\"train\"].to_tf_dataset(\n",
    "    columns=['input_ids', 'token_type_ids', 'attention_mask'],\n",
    "    label_cols=[\"labels\"],\n",
    "    shuffle = True,\n",
    "    batch_size=32,\n",
    ")\n",
    "\n",
    "tf_test = tokenized_dataset[\"test\"].to_tf_dataset(\n",
    "    columns=['input_ids', 'token_type_ids', 'attention_mask'],\n",
    "    label_cols=[\"labels\"],\n",
    "    shuffle = True,\n",
    "    batch_size=32,\n",
    ")\n",
    "\n",
    "tf_train"
   ]
  },
  {
   "cell_type": "code",
   "execution_count": null,
   "metadata": {},
   "outputs": [],
   "source": [
    "from transformers import create_optimizer\n",
    "import tensorflow as tf\n",
    "\n",
    "num_train_steps = len(tf_train)\n",
    "optimizer, schedule = create_optimizer(\n",
    "    init_lr=2e-5,\n",
    "    num_warmup_steps=1_000,\n",
    "    num_train_steps=num_train_steps,\n",
    "    weight_decay_rate=0.01\n",
    ")\n",
    "\n",
    "loss = tf.keras.losses.SparseCategoricalCrossentropy(from_logits=True)\n",
    "\n",
    "model.compile(optimizer=optimizer, loss=loss, metrics=[\"accuracy\"])\n",
    "\n",
    "tf.keras.mixed_precision.set_global_policy(\"mixed_float16\")\n",
    "\n",
    "model_name = model_checkpoint.split(\"/\")[-1]"
   ]
  },
  {
   "cell_type": "code",
   "execution_count": null,
   "metadata": {},
   "outputs": [],
   "source": [
    "model.fit(tf_train, epochs=25)"
   ]
  },
  {
   "cell_type": "code",
   "execution_count": null,
   "metadata": {
    "tags": []
   },
   "outputs": [],
   "source": [
    "def get_length(lf):\n",
    "    count = 0\n",
    "    for word in lf.split():\n",
    "        if (\"(\" not in word and\n",
    "            \")\" not in word and\n",
    "            word != \"and\" and\n",
    "            word != \"or\" and\n",
    "            word != \"of\"):\n",
    "            if \"-\" in word and word[-1] != \"- \":\n",
    "                count += 1\n",
    "            count +=1\n",
    "            \n",
    "    return count"
   ]
  },
  {
   "cell_type": "code",
   "execution_count": null,
   "metadata": {
    "tags": []
   },
   "outputs": [],
   "source": [
    "def predict(lf):\n",
    "    prediction = None\n",
    "    inputs = tokenizer(lf, return_tensors=\"np\")\n",
    "    token_logits = model(**inputs).logits\n",
    "    \n",
    "    mask_token_index = np.argwhere(inputs[\"input_ids\"] == tokenizer.mask_token_id)[0, 1]\n",
    "    mask_token_logits = token_logits[0, mask_token_index, :]\n",
    "\n",
    "    top_token_index_1 = np.argsort(-mask_token_logits)[0]\n",
    "    \n",
    "    lf = lf.replace(tokenizer.mask_token, tokenizer.decode(top_token_index_1).upper())\n",
    "    \n",
    "    phrase_length = get_length(lf)\n",
    "    \n",
    "    if len(tokenizer.decode(top_token_index_1)) < phrase_length:\n",
    "        lf = lf.replace(\")\", \" \" + tokenizer.mask_token + \")\")\n",
    "        inputs = tokenizer(lf, return_tensors=\"np\")\n",
    "        token_logits = model(**inputs).logits\n",
    "        mask_token_index2 = mask_token_index + 1\n",
    "        mask_token_logits2 = token_logits[0, mask_token_index2, :]\n",
    "        top_token_index_2 = np.argsort(-mask_token_logits2)[0]\n",
    "        prediction = lf.replace(\" \" + tokenizer.mask_token, tokenizer.decode(top_token_index_2)[2:].upper())\n",
    "        \n",
    "    if prediction == None:\n",
    "        prediction = lf\n",
    "        \n",
    "    return prediction"
   ]
  },
  {
   "cell_type": "code",
   "execution_count": null,
   "metadata": {
    "tags": []
   },
   "outputs": [],
   "source": [
    "results = []\n",
    "for i in range(len(dataset[\"test\"])):\n",
    "    results.append(predict(dataset[\"test\"][i][\"masked\"]))"
   ]
  },
  {
   "cell_type": "code",
   "execution_count": null,
   "metadata": {
    "tags": []
   },
   "outputs": [],
   "source": [
    "import csv\n",
    "\n",
    "fields = [\"prediction\", \"gold_labels\"]\n",
    "\n",
    "gold_labels = dataset[\"test\"][\"outputs\"]\n",
    "\n",
    "data = zip(results, gold_labels)\n",
    "\n",
    "with open('predictions.csv', 'w') as f:\n",
    "    writer = csv.writer(f)\n",
    "    writer.writerow(fields)\n",
    "    for item in data:\n",
    "        writer.writerow(item)"
   ]
  },
  {
   "cell_type": "code",
   "execution_count": null,
   "metadata": {},
   "outputs": [],
   "source": [
    "test_results = model.predict(tf_test)\n",
    "tokenized_dataset[\"test\"]"
   ]
  }
 ],
 "metadata": {
  "kernelspec": {
   "display_name": "Python 3 (ipykernel)",
   "language": "python",
   "name": "python3"
  },
  "language_info": {
   "codemirror_mode": {
    "name": "ipython",
    "version": 3
   },
   "file_extension": ".py",
   "mimetype": "text/x-python",
   "name": "python",
   "nbconvert_exporter": "python",
   "pygments_lexer": "ipython3",
   "version": "3.9.16"
  }
 },
 "nbformat": 4,
 "nbformat_minor": 4
}
